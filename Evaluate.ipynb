{
 "cells": [
  {
   "cell_type": "code",
   "execution_count": 43,
   "metadata": {},
   "outputs": [
    {
     "data": {
      "text/html": [
       "<div>\n",
       "<style scoped>\n",
       "    .dataframe tbody tr th:only-of-type {\n",
       "        vertical-align: middle;\n",
       "    }\n",
       "\n",
       "    .dataframe tbody tr th {\n",
       "        vertical-align: top;\n",
       "    }\n",
       "\n",
       "    .dataframe thead th {\n",
       "        text-align: right;\n",
       "    }\n",
       "</style>\n",
       "<table border=\"1\" class=\"dataframe\">\n",
       "  <thead>\n",
       "    <tr style=\"text-align: right;\">\n",
       "      <th></th>\n",
       "      <th>Date</th>\n",
       "      <th>Market</th>\n",
       "      <th>Keyword</th>\n",
       "      <th>Average.Position</th>\n",
       "      <th>CPC</th>\n",
       "      <th>CTR (%)</th>\n",
       "      <th>Impressions</th>\n",
       "      <th>Cost</th>\n",
       "    </tr>\n",
       "  </thead>\n",
       "  <tbody>\n",
       "    <tr>\n",
       "      <th>0</th>\n",
       "      <td>20130214</td>\n",
       "      <td>US-Market</td>\n",
       "      <td>cheap insurance life term</td>\n",
       "      <td>0.0</td>\n",
       "      <td>0.00</td>\n",
       "      <td>0.0</td>\n",
       "      <td>0</td>\n",
       "      <td>0.00</td>\n",
       "    </tr>\n",
       "    <tr>\n",
       "      <th>1</th>\n",
       "      <td>20130214</td>\n",
       "      <td>US-Market</td>\n",
       "      <td>home loans refinancing</td>\n",
       "      <td>1.0</td>\n",
       "      <td>7.63</td>\n",
       "      <td>3.8</td>\n",
       "      <td>445</td>\n",
       "      <td>130.41</td>\n",
       "    </tr>\n",
       "    <tr>\n",
       "      <th>2</th>\n",
       "      <td>20130214</td>\n",
       "      <td>US-Market</td>\n",
       "      <td>consolidate college loans</td>\n",
       "      <td>0.0</td>\n",
       "      <td>0.00</td>\n",
       "      <td>0.0</td>\n",
       "      <td>0</td>\n",
       "      <td>0.00</td>\n",
       "    </tr>\n",
       "    <tr>\n",
       "      <th>3</th>\n",
       "      <td>20130214</td>\n",
       "      <td>US-Market</td>\n",
       "      <td>cheap life insurance</td>\n",
       "      <td>1.0</td>\n",
       "      <td>58.88</td>\n",
       "      <td>3.3</td>\n",
       "      <td>931</td>\n",
       "      <td>1806.63</td>\n",
       "    </tr>\n",
       "    <tr>\n",
       "      <th>4</th>\n",
       "      <td>20130214</td>\n",
       "      <td>US-Market</td>\n",
       "      <td>vioxx law suit</td>\n",
       "      <td>0.0</td>\n",
       "      <td>0.00</td>\n",
       "      <td>0.0</td>\n",
       "      <td>0</td>\n",
       "      <td>0.00</td>\n",
       "    </tr>\n",
       "  </tbody>\n",
       "</table>\n",
       "</div>"
      ],
      "text/plain": [
       "       Date     Market                    Keyword  Average.Position    CPC  \\\n",
       "0  20130214  US-Market  cheap insurance life term               0.0   0.00   \n",
       "1  20130214  US-Market     home loans refinancing               1.0   7.63   \n",
       "2  20130214  US-Market  consolidate college loans               0.0   0.00   \n",
       "3  20130214  US-Market       cheap life insurance               1.0  58.88   \n",
       "4  20130214  US-Market             vioxx law suit               0.0   0.00   \n",
       "\n",
       "   CTR (%)  Impressions     Cost  \n",
       "0      0.0            0     0.00  \n",
       "1      3.8          445   130.41  \n",
       "2      0.0            0     0.00  \n",
       "3      3.3          931  1806.63  \n",
       "4      0.0            0     0.00  "
      ]
     },
     "execution_count": 43,
     "metadata": {},
     "output_type": "execute_result"
    }
   ],
   "source": [
    "import seaborn as sns\n",
    "import matplotlib.pyplot as plt\n",
    "import pandas as pd\n",
    "\n",
    "data_set = pd.read_csv('Evaluate_1.csv', delimiter=',')\n",
    "\n",
    "data_set.head()"
   ]
  },
  {
   "cell_type": "code",
   "execution_count": 44,
   "metadata": {},
   "outputs": [
    {
     "name": "stdout",
     "output_type": "stream",
     "text": [
      "<class 'pandas.core.frame.DataFrame'>\n",
      "RangeIndex: 400 entries, 0 to 399\n",
      "Data columns (total 8 columns):\n",
      "Date                400 non-null int64\n",
      "Market              400 non-null object\n",
      "Keyword             400 non-null object\n",
      "Average.Position    400 non-null float64\n",
      "CPC                 400 non-null float64\n",
      "CTR (%)             400 non-null float64\n",
      "Impressions         400 non-null int64\n",
      "Cost                400 non-null float64\n",
      "dtypes: float64(4), int64(2), object(2)\n",
      "memory usage: 25.1+ KB\n",
      "None\n"
     ]
    }
   ],
   "source": [
    "print(data_set.info())"
   ]
  },
  {
   "cell_type": "code",
   "execution_count": 45,
   "metadata": {},
   "outputs": [
    {
     "data": {
      "text/plain": [
       "count    400.000000\n",
       "mean       2.930000\n",
       "std        1.121715\n",
       "min        1.000000\n",
       "25%        2.000000\n",
       "50%        3.000000\n",
       "75%        4.000000\n",
       "max        6.000000\n",
       "Name: Word_Count, dtype: float64"
      ]
     },
     "execution_count": 45,
     "metadata": {},
     "output_type": "execute_result"
    }
   ],
   "source": [
    "data_set['Word_Count'] = data_set['Keyword'].apply(lambda x: len(str(x).split(\" \")))\n",
    "\n",
    "data_set.Word_Count.describe()"
   ]
  },
  {
   "cell_type": "code",
   "execution_count": 47,
   "metadata": {},
   "outputs": [
    {
     "name": "stdout",
     "output_type": "stream",
     "text": [
      "       Date     Market          Keyword  Average.Position    CPC  CTR (%)  \\\n",
      "0  20130214  US-Market  auto insurances               1.0  20.26      6.5   \n",
      "1  20130214  US-Market  auto insurances               1.0  25.30      6.1   \n",
      "2  20130214  US-Market  at and t phones               1.0   6.79      5.5   \n",
      "3  20130214  US-Market  at and t phones               1.0   6.79      5.2   \n",
      "4  20130214  UK-Market       Cord Blood               1.0   7.87      5.1   \n",
      "\n",
      "   Impressions    Cost  Word_Count  \n",
      "0          393  515.58           2  \n",
      "1          335  517.54           2  \n",
      "2           74   28.00           4  \n",
      "3          127   44.98           4  \n",
      "4          283  113.04           2  \n"
     ]
    }
   ],
   "source": [
    "data_frame = pd.DataFrame(data_set)\n",
    "\n",
    "df = data_frame.drop_duplicates()\n",
    "\n",
    "removed_NaN = df.dropna().reset_index(drop=True)\n",
    "\n",
    "sorted_values = removed_NaN.sort_values('CTR (%)', ascending=False).reset_index(drop=True)\n",
    "\n",
    "print(sorted_values.head())"
   ]
  },
  {
   "cell_type": "code",
   "execution_count": 48,
   "metadata": {},
   "outputs": [],
   "source": [
    "new_dataframe = sorted_values.drop(['Date', 'Average.Position', 'Impressions'], axis=1)"
   ]
  },
  {
   "cell_type": "code",
   "execution_count": 49,
   "metadata": {},
   "outputs": [
    {
     "name": "stdout",
     "output_type": "stream",
     "text": [
      "              CPC     CTR (%)          Cost  Word_Count\n",
      "count  323.000000  323.000000    323.000000  323.000000\n",
      "mean    12.456068    1.257585    905.705635    2.835913\n",
      "std     41.726243    1.520000   3478.416357    1.166701\n",
      "min      0.000000    0.000000      0.000000    1.000000\n",
      "25%      0.000000    0.000000      0.000000    2.000000\n",
      "50%      0.000000    0.000000      0.000000    3.000000\n",
      "75%      8.045000    2.500000    148.520000    4.000000\n",
      "max    408.390000    6.500000  28901.360000    6.000000\n"
     ]
    }
   ],
   "source": [
    "print(new_dataframe.describe())"
   ]
  },
  {
   "cell_type": "code",
   "execution_count": 50,
   "metadata": {},
   "outputs": [
    {
     "name": "stdout",
     "output_type": "stream",
     "text": [
      "      Market          Keyword    CPC  CTR (%)    Cost  Word_Count\n",
      "0  US-Market  auto insurances  20.26      6.5  515.58           2\n",
      "1  US-Market  auto insurances  25.30      6.1  517.54           2\n",
      "2  US-Market  at and t phones   6.79      5.5   28.00           4\n",
      "3  US-Market  at and t phones   6.79      5.2   44.98           4\n",
      "4  UK-Market       Cord Blood   7.87      5.1  113.04           2\n"
     ]
    }
   ],
   "source": [
    "print(new_dataframe.head())"
   ]
  },
  {
   "cell_type": "code",
   "execution_count": 52,
   "metadata": {},
   "outputs": [],
   "source": [
    "groupby_df = new_dataframe.groupby(['Market', 'Keyword', 'CTR (%)'], as_index=False).sum()"
   ]
  },
  {
   "cell_type": "code",
   "execution_count": 53,
   "metadata": {},
   "outputs": [],
   "source": [
    "summary = groupby_df.sort_values('CTR (%)', ascending=False).reset_index(drop=True)"
   ]
  },
  {
   "cell_type": "code",
   "execution_count": 54,
   "metadata": {},
   "outputs": [
    {
     "name": "stdout",
     "output_type": "stream",
     "text": [
      "      Market          Keyword  CTR (%)    CPC    Cost  Word_Count\n",
      "0  US-Market  auto insurances      6.5  20.26  515.58           2\n",
      "1  US-Market  auto insurances      6.1  25.30  517.54           2\n",
      "2  US-Market  at and t phones      5.5   6.79   28.00           4\n",
      "3  US-Market  at and t phones      5.2   6.79   44.98           4\n",
      "4  UK-Market       Cord Blood      5.1   7.87  113.04           2\n"
     ]
    }
   ],
   "source": [
    "print(summary.head())"
   ]
  },
  {
   "cell_type": "code",
   "execution_count": 55,
   "metadata": {},
   "outputs": [
    {
     "data": {
      "image/png": "[encoded data removed]",
      "text/plain": [
       "<Figure size 432x288 with 1 Axes>"
      ]
     },
     "metadata": {},
     "output_type": "display_data"
    },
    {
     "data": {
      "image/png": "[encoded data removed]",
      "text/plain": [
       "<Figure size 432x288 with 1 Axes>"
      ]
     },
     "metadata": {},
     "output_type": "display_data"
    },
    {
     "data": {
      "image/png": "[encoded data removed]",
      "text/plain": [
       "<Figure size 432x288 with 1 Axes>"
      ]
     },
     "metadata": {},
     "output_type": "display_data"
    }
   ],
   "source": [
    "# First graph of Keywords by Clicks\n",
    "\n",
    "sns.set_style('whitegrid')\n",
    "\n",
    "sns.barplot(x='CTR (%)', y='Keyword', data=summary.head())\n",
    "\n",
    "plt.title('Top Searched Keywords by CTR (%)')\n",
    "\n",
    "plt.xlabel('CTR (%)')\n",
    "\n",
    "plt.ylabel('Keywords')\n",
    "\n",
    "sns.despine()\n",
    "\n",
    "plt.show()\n",
    "\n",
    "# Second graph of Keywords by CPC\n",
    "\n",
    "sns.set_style('whitegrid')\n",
    "\n",
    "sns.barplot(x='CPC', y='Keyword', data=summary.head())\n",
    "\n",
    "plt.title('Top Searched Keywords by CPC')\n",
    "\n",
    "plt.xlabel('CPC')\n",
    "\n",
    "plt.ylabel('Keywords')\n",
    "\n",
    "sns.despine()\n",
    "\n",
    "plt.show()\n",
    "\n",
    "# Third graph of Keywords by Cost for funds allocation\n",
    "\n",
    "sns.set_style('whitegrid')\n",
    "\n",
    "sns.barplot(x='Keyword', y='Cost', data=summary.head())\n",
    "\n",
    "plt.title('Top Searched Keywords by Cost')\n",
    "\n",
    "plt.xlabel('Keywords')\n",
    "\n",
    "plt.ylabel('Costs in Millions (USD)')\n",
    "\n",
    "sns.despine()\n",
    "\n",
    "plt.show()"
   ]
  },
  {
   "cell_type": "code",
   "execution_count": 56,
   "metadata": {},
   "outputs": [
    {
     "data": {
      "text/plain": [
       "home             36\n",
       "insurance        33\n",
       "equity           32\n",
       "credit           28\n",
       "attorney         21\n",
       "lawyer           21\n",
       "life             19\n",
       "loan             19\n",
       "loans            18\n",
       "line             18\n",
       "refinance        15\n",
       "york             14\n",
       "Adsense          14\n",
       "new              14\n",
       "criminal         13\n",
       "consolidation    12\n",
       "los              11\n",
       "angeles          11\n",
       "injury           11\n",
       "of               11\n",
       "dtype: int64"
      ]
     },
     "execution_count": 56,
     "metadata": {},
     "output_type": "execute_result"
    }
   ],
   "source": [
    "#Identify common words\n",
    "freq_keywords = pd.Series(' '.join(summary['Keyword']).split()).value_counts()[:20]\n",
    "freq_keywords"
   ]
  },
  {
   "cell_type": "code",
   "execution_count": 57,
   "metadata": {},
   "outputs": [
    {
     "data": {
      "text/plain": [
       "adsense          2\n",
       "Call             2\n",
       "temporary        2\n",
       "Blood            2\n",
       "tips             2\n",
       "with             2\n",
       "mass             2\n",
       "hack             2\n",
       "arizona          2\n",
       "earn             2\n",
       "international    2\n",
       "suit             2\n",
       "secured          2\n",
       "link             2\n",
       "compensation     2\n",
       "Software         2\n",
       "refinanced       2\n",
       "Cord             2\n",
       "Trading          2\n",
       "litigation       2\n",
       "dtype: int64"
      ]
     },
     "execution_count": 57,
     "metadata": {},
     "output_type": "execute_result"
    }
   ],
   "source": [
    "#Identify uncommon words\n",
    "infreq_keywords =  pd.Series(' '.join(summary['Keyword']).split()).value_counts()[-20:]\n",
    "infreq_keywords"
   ]
  }
 ],
 "metadata": {
  "kernelspec": {
   "display_name": "Python 3",
   "language": "python",
   "name": "python3"
  },
  "language_info": {
   "codemirror_mode": {
    "name": "ipython",
    "version": 3
   },
   "file_extension": ".py",
   "mimetype": "text/x-python",
   "name": "python",
   "nbconvert_exporter": "python",
   "pygments_lexer": "ipython3",
   "version": "3.7.3"
  }
 },
 "nbformat": 4,
 "nbformat_minor": 4
}
